{
 "cells": [
  {
   "cell_type": "code",
   "execution_count": 2,
   "id": "e13e8b98",
   "metadata": {},
   "outputs": [
    {
     "name": "stderr",
     "output_type": "stream",
     "text": [
      "/work/wjx/miniconda3/envs/cell2loc_env/lib/python3.10/site-packages/tqdm/auto.py:21: TqdmWarning: IProgress not found. Please update jupyter and ipywidgets. See https://ipywidgets.readthedocs.io/en/stable/user_install.html\n",
      "  from .autonotebook import tqdm as notebook_tqdm\n"
     ]
    }
   ],
   "source": [
    "\n",
    "import scanpy as sc\n",
    "import numpy as np\n",
    "import pandas as pd\n",
    "import matplotlib.pyplot as plt\n",
    "import matplotlib as mpl\n",
    "import cell2location\n",
    "from matplotlib import rcParams\n",
    "rcParams['pdf.fonttype'] = 42"
   ]
  },
  {
   "cell_type": "code",
   "execution_count": 3,
   "id": "6cde1157",
   "metadata": {},
   "outputs": [],
   "source": [
    "\n",
    "results_folder = '/work/wjx/scRNA-seq/AIP/Spatial/result/'\n",
    "ref_run_name = f'{results_folder}/reference_signatures'\n",
    "run_name = f'{results_folder}/cell2location_map'\n"
   ]
  },
  {
   "cell_type": "code",
   "execution_count": null,
   "id": "f0a22f22",
   "metadata": {},
   "outputs": [],
   "source": [
    "\n",
    "adata_vis = sc.read_visium(\n",
    "    '/work/wjx/scRNA-seq/AIP/Spatial/matrix/AIP20_35834/', count_file='filtered_feature_bc_matrix.h5',\n",
    "    genome=None, library_id=None, load_images=True,\n",
    ")  \n",
    "adata_vis\n",
    "adata_vis.obs['sample'] = list(adata_vis.uns['spatial'].keys())[0]\n",
    "adata_vis.var\n",
    "adata_vis.var['SYMBOL'] = adata_vis.var_names"
   ]
  },
  {
   "cell_type": "code",
   "execution_count": null,
   "id": "7f450f40",
   "metadata": {},
   "outputs": [],
   "source": [
    "\n",
    "\n",
    "adata_vis.var['MT_gene'] = [gene.startswith('MT-') for gene in adata_vis.var['SYMBOL']]\n",
    "\n",
    "\n",
    "adata_vis.obsm['MT'] = adata_vis[:, adata_vis.var['MT_gene'].values].X.toarray()\n",
    "adata_vis = adata_vis[:, ~adata_vis.var['MT_gene'].values]\n",
    "adata_vis"
   ]
  },
  {
   "cell_type": "code",
   "execution_count": null,
   "id": "029a8574",
   "metadata": {},
   "outputs": [],
   "source": [
    "\n",
    "adata_file = f\"/work/wjx/scRNA-seq/AIP/Spatial/scref_downsample20240717.h5ad\"\n",
    "adata_ref = sc.read_h5ad(adata_file)\n",
    "adata_ref\n",
    "\n",
    "adata_ref.var\n",
    "\n",
    "adata_ref.var['SYMBOL'] = adata_ref.var.index\n",
    "from cell2location.utils.filtering import filter_genes\n",
    "selected = filter_genes(adata_ref, cell_count_cutoff=5, cell_percentage_cutoff2=0.03, nonz_mean_cutoff=1.12)\n",
    "adata_ref = adata_ref[:, selected].copy()"
   ]
  },
  {
   "cell_type": "code",
   "execution_count": null,
   "id": "ca195f74",
   "metadata": {},
   "outputs": [],
   "source": [
    "cell2location.models.RegressionModel.setup_anndata(adata=adata_ref,\n",
    "                        batch_key='orig.ident',\n",
    "                        labels_key='celltype1',\n",
    "                        \n",
    "                       )\n",
    "\n",
    "from cell2location.models import RegressionModel\n",
    "mod = RegressionModel(adata_ref)"
   ]
  },
  {
   "cell_type": "code",
   "execution_count": null,
   "id": "02bf2dfc",
   "metadata": {},
   "outputs": [],
   "source": [
    "# view anndata_setup as a sanity check\n",
    "mod.view_anndata_setup()\n",
    "mod.train(max_epochs=250)\n",
    "mod.plot_history(20)\n",
    "# In this section, we export the estimated cell abundance (summary of the posterior distribution).\n",
    "adata_ref = mod.export_posterior(\n",
    "    adata_ref, sample_kwargs={'num_samples': 1000, 'batch_size': 2500}\n",
    ")\n",
    "\n",
    "# Save model\n",
    "mod.save(f\"{ref_run_name}\", overwrite=True)\n",
    "\n",
    "# Save anndata object with results\n",
    "adata_file = f\"{ref_run_name}/sc.h5ad\"\n",
    "adata_ref.write(adata_file)\n",
    "adata_file\n",
    "\n",
    "mod.plot_QC()\n"
   ]
  },
  {
   "cell_type": "code",
   "execution_count": null,
   "id": "e75b5e84",
   "metadata": {},
   "outputs": [],
   "source": [
    "\n",
    "adata_file = f\"{ref_run_name}/sc.h5ad\"\n",
    "adata_ref = sc.read_h5ad(adata_file)\n",
    "mod = cell2location.models.RegressionModel.load(f\"{ref_run_name}\", adata_ref)\n",
    "\n",
    "# export estimated expression in each cluster\n",
    "if 'means_per_cluster_mu_fg' in adata_ref.varm.keys():\n",
    "    inf_aver = adata_ref.varm['means_per_cluster_mu_fg'][[f'means_per_cluster_mu_fg_{i}'\n",
    "                                    for i in adata_ref.uns['mod']['factor_names']]].copy()\n",
    "else:\n",
    "    inf_aver = adata_ref.var[[f'means_per_cluster_mu_fg_{i}'\n",
    "                                    for i in adata_ref.uns['mod']['factor_names']]].copy()\n",
    "inf_aver.columns = adata_ref.uns['mod']['factor_names']\n",
    "inf_aver"
   ]
  },
  {
   "cell_type": "code",
   "execution_count": null,
   "id": "141bbb27",
   "metadata": {},
   "outputs": [],
   "source": [
    "# find shared genes and subset both anndata and reference signatures\n",
    "intersect = np.intersect1d(adata_vis.var_names, inf_aver.index)\n",
    "inf_aver = inf_aver.loc[intersect, :].copy()\n",
    "adata_vis.var_names_make_unique()\n",
    "adata_vis = adata_vis[:, intersect].copy()\n",
    "adata_vis"
   ]
  },
  {
   "cell_type": "code",
   "execution_count": null,
   "id": "a4942af7",
   "metadata": {},
   "outputs": [],
   "source": [
    "# prepare anndata for cell2location model\n",
    "cell2location.models.Cell2location.setup_anndata(adata=adata_vis, batch_key=\"sample\")\n",
    "# create and train the model\n",
    "mod = cell2location.models.Cell2location(\n",
    "    adata_vis, cell_state_df=inf_aver,\n",
    "    # the expected average cell abundance: tissue-dependent\n",
    "    # hyper-prior which can be estimated from paired histology:\n",
    "    N_cells_per_location=20,\n",
    "    # hyperparameter controlling normalisation of\n",
    "    # within-experiment variation in RNA detection:\n",
    "    detection_alpha=20\n",
    ")\n",
    "mod.view_anndata_setup()\n"
   ]
  },
  {
   "cell_type": "code",
   "execution_count": null,
   "id": "1538d4d7",
   "metadata": {},
   "outputs": [],
   "source": [
    "#use_gpu=True,\n",
    "mod.train(max_epochs=30000,\n",
    "          # train using full data (batch_size=None)\n",
    "          batch_size=None,\n",
    "          # use all data points in training because\n",
    "          # we need to estimate cell abundance at all locations\n",
    "          train_size=1,\n",
    "         )\n",
    "# plot ELBO loss history during training, removing first 100 epochs from the plot\n",
    "mod.plot_history(100)\n",
    "plt.legend(labels=['full data training'])\n",
    "plt.savefig('/work/wjx/scRNA-seq/AIP/Spatial/full_data_training.pdf')\n",
    "mod.plot_history(100)"
   ]
  },
  {
   "cell_type": "code",
   "execution_count": null,
   "id": "80cd13ea",
   "metadata": {},
   "outputs": [],
   "source": [
    "# In this section, we export the estimated cell abundance (summary of the posterior distribution).#, 'use_gpu': True\n",
    "adata_vis = mod.export_posterior(\n",
    "    adata_vis, sample_kwargs={'num_samples': 1000, 'batch_size': mod.adata.n_obs}\n",
    ")\n",
    "\n",
    "# Save model\n",
    "mod.save(f\"{run_name}\", overwrite=True)\n",
    "\n",
    "# mod = cell2location.models.Cell2location.load(f\"{run_name}\", adata_vis)\n",
    "\n"
   ]
  },
  {
   "cell_type": "code",
   "execution_count": null,
   "id": "1f2f8436",
   "metadata": {},
   "outputs": [],
   "source": [
    "# Save anndata object with results\n",
    "adata_file = f\"{run_name}/sp.h5ad\"\n",
    "adata_vis.write(adata_file)\n",
    "adata_file\n"
   ]
  },
  {
   "cell_type": "code",
   "execution_count": 5,
   "id": "7fe12d16",
   "metadata": {},
   "outputs": [
    {
     "data": {
      "text/plain": [
       "AxisArrays with keys: MT, means_cell_abundance_w_sf, q05_cell_abundance_w_sf, q95_cell_abundance_w_sf, spatial, stds_cell_abundance_w_sf"
      ]
     },
     "execution_count": 5,
     "metadata": {},
     "output_type": "execute_result"
    }
   ],
   "source": [
    "\n",
    "adata_file = f\"{run_name}/sp.h5ad\"\n",
    "adata_vis = sc.read_h5ad(adata_file)\n",
    "#mod = cell2location.models.Cell2location.load(f\"{run_name}\", adata_vis)\n",
    "#mod.plot_QC()\n",
    "adata_vis.obsm"
   ]
  },
  {
   "cell_type": "code",
   "execution_count": 7,
   "id": "61098236",
   "metadata": {},
   "outputs": [],
   "source": [
    "\n",
    "#pd.DataFrame(adata_vis.obsm['q05_cell_abundance_w_sf']).to_csv(\"/work/wjx/spatial/IBD_spatial/figure/figure3/result/st_cell2location_res.csv\")\n",
    "# add 5% quantile, representing confident cell abundance, 'at least this amount is present',\n",
    "# to adata.obs with nice names for plotting\n",
    "adata_vis.obs[adata_vis.uns['mod']['factor_names']] = adata_vis.obsm['q05_cell_abundance_w_sf']\n",
    "adata_vis.obs['array_row']=adata_vis.obs['array_row'].apply(int)\n",
    "adata_vis.obs['array_col']=adata_vis.obs['array_col'].apply(int)\n",
    "adata_vis.obsm['spatial']=adata_vis.obsm['spatial'].astype(int)\n",
    "adata_vis.obs['in_tissue']=adata_vis.obs['in_tissue'].apply(int)\n",
    "# select one slide\n",
    "#from cell2location.utils import select_slide\n",
    "#slide = select_slide(adata_vis, 'CD179_INF5')"
   ]
  },
  {
   "cell_type": "code",
   "execution_count": null,
   "id": "76fd18bc",
   "metadata": {},
   "outputs": [],
   "source": [
    "# plot in spatial coordinates\n",
    "with mpl.rc_context({'axes.facecolor':  'black',\n",
    "                     'figure.figsize': [4.5, 5]}):\n",
    "    sc.pl.spatial(adata_vis, cmap='magma',\n",
    "                  # show first 8 cell types\n",
    "                  color=[\n",
    "                           \"CXCL9+ Macrophage\"          \n",
    "                       ],\n",
    "                  ncols=4, size=1.3,\n",
    "                  img_key='hires',\n",
    "                  # limit color scale at 99.2% quantile of cell abundance\n",
    "                  vmin=0, vmax='p99.2'\n",
    "                 )\n",
    "#plt.savefig('POSTN+Fibroblast.pdf')                 "
   ]
  },
  {
   "cell_type": "code",
   "execution_count": null,
   "id": "b4e6c7e1",
   "metadata": {},
   "outputs": [],
   "source": [
    "# Now we use cell2location plotter that allows showing multiple cell types in one panel\n",
    "from cell2location.plt import plot_spatial\n",
    "\n",
    "\n",
    "# select up to 6 clusters\n",
    "clust_labels = [\"ABC(IgD-)\",\"Tfh\",]\n",
    "clust_col = ['' + str(i) for i in clust_labels] # in case column names differ from labels\n",
    "\n",
    "#slide = select_slide(adata_vis, 'V1_Human_Lymph_Node')\n",
    "\n",
    "with mpl.rc_context({'figure.figsize': (8, 8)}):\n",
    "        plot_spatial(\n",
    "        adata=adata_vis,\n",
    "        # labels to show on a plot\n",
    "        color=clust_col, labels=clust_labels,\n",
    "        show_img=True,\n",
    "        reorder_cmap=(1,2),\n",
    "        crop_x=(130,1250),\n",
    "        crop_y=(420,1550),\n",
    "        # 'fast' (white background) or 'dark_background'\n",
    "        style='fast',\n",
    "        # limit color scale at 99.2% quantile of cell abundance\n",
    "        max_color_quantile=0.992,\n",
    "        # size of locations (adjust depending on figure size)\n",
    "        circle_diameter=6,\n",
    "        colorbar_position='right'\n",
    "    )    \n",
    "plt.savefig('Figure5b.pdf')  "
   ]
  },
  {
   "cell_type": "code",
   "execution_count": 12,
   "id": "2ca13478",
   "metadata": {},
   "outputs": [],
   "source": [
    "# Now we use cell2location plotter that allows showing multiple cell types in one panel\n",
    "from cell2location.plt import plot_spatial\n",
    "\n",
    "\n",
    "# select up to 6 clusters\n",
    "clust_labels = [\"ABC(IgD-)\",\"CXCL9+ Macrophage\",]\n",
    "clust_col = ['' + str(i) for i in clust_labels] # in case column names differ from labels\n",
    "\n",
    "#slide = select_slide(adata_vis, 'V1_Human_Lymph_Node')\n",
    "\n",
    "with mpl.rc_context({'figure.figsize': (8, 8)}):\n",
    "        plot_spatial(\n",
    "        adata=adata_vis,\n",
    "        # labels to show on a plot\n",
    "        color=clust_col, labels=clust_labels,\n",
    "        show_img=True,\n",
    "        reorder_cmap=(1,4),\n",
    "        crop_x=(130,1250),\n",
    "        crop_y=(420,1550),\n",
    "        # 'fast' (white background) or 'dark_background'\n",
    "        style='fast',\n",
    "        # limit color scale at 99.2% quantile of cell abundance\n",
    "        max_color_quantile=0.992,\n",
    "        # size of locations (adjust depending on figure size)\n",
    "        circle_diameter=6,\n",
    "        colorbar_position='right'\n",
    "    )    \n",
    "plt.savefig('Figure3h.pdf')  "
   ]
  },
  {
   "cell_type": "code",
   "execution_count": null,
   "id": "d1ea3488",
   "metadata": {},
   "outputs": [],
   "source": []
  }
 ],
 "metadata": {
  "kernelspec": {
   "display_name": "cell2loc_env",
   "language": "python",
   "name": "cell2loc_env"
  },
  "language_info": {
   "codemirror_mode": {
    "name": "ipython",
    "version": 3
   },
   "file_extension": ".py",
   "mimetype": "text/x-python",
   "name": "python",
   "nbconvert_exporter": "python",
   "pygments_lexer": "ipython3",
   "version": "3.10.14"
  }
 },
 "nbformat": 4,
 "nbformat_minor": 5
}
